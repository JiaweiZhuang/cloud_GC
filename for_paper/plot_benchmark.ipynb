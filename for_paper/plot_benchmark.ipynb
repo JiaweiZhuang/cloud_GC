{
 "cells": [
  {
   "cell_type": "code",
   "execution_count": 1,
   "metadata": {},
   "outputs": [],
   "source": [
    "%matplotlib inline\n",
    "import matplotlib.pyplot as plt\n",
    "\n",
    "import numpy as np\n",
    "import pandas as pd"
   ]
  },
  {
   "cell_type": "markdown",
   "metadata": {},
   "source": [
    "Raw data at https://github.com/JiaweiZhuang/GC12_timing_logs.\n",
    "Do not put log files in this repository are they are quite big."
   ]
  },
  {
   "cell_type": "code",
   "execution_count": 2,
   "metadata": {},
   "outputs": [
    {
     "data": {
      "text/html": [
       "<div>\n",
       "<style scoped>\n",
       "    .dataframe tbody tr th:only-of-type {\n",
       "        vertical-align: middle;\n",
       "    }\n",
       "\n",
       "    .dataframe tbody tr th {\n",
       "        vertical-align: top;\n",
       "    }\n",
       "\n",
       "    .dataframe thead th {\n",
       "        text-align: right;\n",
       "    }\n",
       "</style>\n",
       "<table border=\"1\" class=\"dataframe\">\n",
       "  <thead>\n",
       "    <tr style=\"text-align: right;\">\n",
       "      <th></th>\n",
       "      <th>total time</th>\n",
       "      <th>standard hourly</th>\n",
       "      <th>spot hourly</th>\n",
       "    </tr>\n",
       "  </thead>\n",
       "  <tbody>\n",
       "    <tr>\n",
       "      <th>c5.4xlarge</th>\n",
       "      <td>5656.195</td>\n",
       "      <td>0.680</td>\n",
       "      <td>0.27</td>\n",
       "    </tr>\n",
       "    <tr>\n",
       "      <th>c4.4xlarge</th>\n",
       "      <td>7282.290</td>\n",
       "      <td>0.796</td>\n",
       "      <td>0.25</td>\n",
       "    </tr>\n",
       "    <tr>\n",
       "      <th>c5.9xlarge</th>\n",
       "      <td>4030.448</td>\n",
       "      <td>1.530</td>\n",
       "      <td>0.58</td>\n",
       "    </tr>\n",
       "    <tr>\n",
       "      <th>c4.8xlarge</th>\n",
       "      <td>5444.040</td>\n",
       "      <td>1.590</td>\n",
       "      <td>0.57</td>\n",
       "    </tr>\n",
       "    <tr>\n",
       "      <th>Pleiade Haswell</th>\n",
       "      <td>5730.250</td>\n",
       "      <td>0.530</td>\n",
       "      <td>NaN</td>\n",
       "    </tr>\n",
       "    <tr>\n",
       "      <th>Pleiade Sandy Bridge</th>\n",
       "      <td>7748.750</td>\n",
       "      <td>0.290</td>\n",
       "      <td>NaN</td>\n",
       "    </tr>\n",
       "  </tbody>\n",
       "</table>\n",
       "</div>"
      ],
      "text/plain": [
       "                      total time  standard hourly  spot hourly\n",
       "c5.4xlarge              5656.195            0.680         0.27\n",
       "c4.4xlarge              7282.290            0.796         0.25\n",
       "c5.9xlarge              4030.448            1.530         0.58\n",
       "c4.8xlarge              5444.040            1.590         0.57\n",
       "Pleiade Haswell         5730.250            0.530          NaN\n",
       "Pleiade Sandy Bridge    7748.750            0.290          NaN"
      ]
     },
     "execution_count": 2,
     "metadata": {},
     "output_type": "execute_result"
    }
   ],
   "source": [
    "df = pd.read_csv('./benchmark_summary_12.1.1.csv', sep=',', index_col=0)\n",
    "df"
   ]
  },
  {
   "cell_type": "code",
   "execution_count": 3,
   "metadata": {},
   "outputs": [
    {
     "data": {
      "text/html": [
       "<div>\n",
       "<style scoped>\n",
       "    .dataframe tbody tr th:only-of-type {\n",
       "        vertical-align: middle;\n",
       "    }\n",
       "\n",
       "    .dataframe tbody tr th {\n",
       "        vertical-align: top;\n",
       "    }\n",
       "\n",
       "    .dataframe thead th {\n",
       "        text-align: right;\n",
       "    }\n",
       "</style>\n",
       "<table border=\"1\" class=\"dataframe\">\n",
       "  <thead>\n",
       "    <tr style=\"text-align: right;\">\n",
       "      <th></th>\n",
       "      <th>total time</th>\n",
       "      <th>standard hourly</th>\n",
       "      <th>spot hourly</th>\n",
       "      <th>standard total</th>\n",
       "      <th>spot total</th>\n",
       "    </tr>\n",
       "  </thead>\n",
       "  <tbody>\n",
       "    <tr>\n",
       "      <th>c5.4xlarge</th>\n",
       "      <td>5656.195</td>\n",
       "      <td>0.680</td>\n",
       "      <td>0.27</td>\n",
       "      <td>3846.21260</td>\n",
       "      <td>1527.17265</td>\n",
       "    </tr>\n",
       "    <tr>\n",
       "      <th>c4.4xlarge</th>\n",
       "      <td>7282.290</td>\n",
       "      <td>0.796</td>\n",
       "      <td>0.25</td>\n",
       "      <td>5796.70284</td>\n",
       "      <td>1820.57250</td>\n",
       "    </tr>\n",
       "    <tr>\n",
       "      <th>c5.9xlarge</th>\n",
       "      <td>4030.448</td>\n",
       "      <td>1.530</td>\n",
       "      <td>0.58</td>\n",
       "      <td>6166.58544</td>\n",
       "      <td>2337.65984</td>\n",
       "    </tr>\n",
       "    <tr>\n",
       "      <th>c4.8xlarge</th>\n",
       "      <td>5444.040</td>\n",
       "      <td>1.590</td>\n",
       "      <td>0.57</td>\n",
       "      <td>8656.02360</td>\n",
       "      <td>3103.10280</td>\n",
       "    </tr>\n",
       "    <tr>\n",
       "      <th>Pleiade Haswell</th>\n",
       "      <td>5730.250</td>\n",
       "      <td>0.530</td>\n",
       "      <td>NaN</td>\n",
       "      <td>3037.03250</td>\n",
       "      <td>NaN</td>\n",
       "    </tr>\n",
       "    <tr>\n",
       "      <th>Pleiade Sandy Bridge</th>\n",
       "      <td>7748.750</td>\n",
       "      <td>0.290</td>\n",
       "      <td>NaN</td>\n",
       "      <td>2247.13750</td>\n",
       "      <td>NaN</td>\n",
       "    </tr>\n",
       "  </tbody>\n",
       "</table>\n",
       "</div>"
      ],
      "text/plain": [
       "                      total time  standard hourly  spot hourly  \\\n",
       "c5.4xlarge              5656.195            0.680         0.27   \n",
       "c4.4xlarge              7282.290            0.796         0.25   \n",
       "c5.9xlarge              4030.448            1.530         0.58   \n",
       "c4.8xlarge              5444.040            1.590         0.57   \n",
       "Pleiade Haswell         5730.250            0.530          NaN   \n",
       "Pleiade Sandy Bridge    7748.750            0.290          NaN   \n",
       "\n",
       "                      standard total  spot total  \n",
       "c5.4xlarge                3846.21260  1527.17265  \n",
       "c4.4xlarge                5796.70284  1820.57250  \n",
       "c5.9xlarge                6166.58544  2337.65984  \n",
       "c4.8xlarge                8656.02360  3103.10280  \n",
       "Pleiade Haswell           3037.03250         NaN  \n",
       "Pleiade Sandy Bridge      2247.13750         NaN  "
      ]
     },
     "execution_count": 3,
     "metadata": {},
     "output_type": "execute_result"
    }
   ],
   "source": [
    "df['standard total'] = df['total time'] * df['standard hourly']\n",
    "df['spot total'] = df['total time'] * df['spot hourly']\n",
    "df"
   ]
  },
  {
   "cell_type": "code",
   "execution_count": 4,
   "metadata": {},
   "outputs": [],
   "source": [
    "plt.rcParams['legend.fontsize'] = 12.5\n",
    "\n",
    "plt.rcParams['xtick.labelsize'] = 13\n",
    "plt.rcParams['ytick.labelsize'] = 13\n",
    "\n",
    "plt.rcParams['axes.titlesize'] = 14\n",
    "plt.rcParams['axes.labelsize'] = 14"
   ]
  },
  {
   "cell_type": "code",
   "execution_count": 5,
   "metadata": {},
   "outputs": [
    {
     "data": {
      "image/png": "[encoded data removed]",
      "text/plain": [
       "<Figure size 720x288 with 2 Axes>"
      ]
     },
     "metadata": {},
     "output_type": "display_data"
    }
   ],
   "source": [
    "fig, axes = plt.subplots(1, 2, figsize=[10, 4])\n",
    "\n",
    "ind = np.arange(6, 0, -1)  # up-down\n",
    "# ind = np.arange(6)  # bottom-up\n",
    "\n",
    "axes[0].barh(ind, df['total time']/3600, tick_label=df.index, height=0.5)\n",
    "axes[0].set_title('Wall time')\n",
    "axes[0].set_xlabel('hours')\n",
    "\n",
    "axes[1].barh(ind[:4]+0.125, df['standard total'][:4], height=0.25, label='On-demand \\npricing')\n",
    "axes[1].barh(ind[:4]-0.125, df['spot total'][:4].astype('float'), height=0.25, label='Spot pricing')\n",
    "axes[1].barh(ind[4:], df['standard total'][4:], height=0.4, label='SBU model')\n",
    "\n",
    "axes[1].set_title('Total cost')\n",
    "axes[1].set_xlabel('USD')\n",
    "axes[1].legend(loc=4)\n",
    "\n",
    "axes[1].set_yticks(ind)\n",
    "axes[1].set_yticklabels([' '])\n",
    "\n",
    "fig.suptitle('Performance and cost comparisons between AWS EC2 and NASA Pleiades', y=1.03, fontsize=15,  x=0.55)\n",
    "fig.tight_layout()\n",
    "fig.savefig('benchmark.png', dpi=300, bbox_inches='tight')"
   ]
  }
 ],
 "metadata": {
  "kernelspec": {
   "display_name": "Python 3",
   "language": "python",
   "name": "python3"
  },
  "language_info": {
   "codemirror_mode": {
    "name": "ipython",
    "version": 3
   },
   "file_extension": ".py",
   "mimetype": "text/x-python",
   "name": "python",
   "nbconvert_exporter": "python",
   "pygments_lexer": "ipython3",
   "version": "3.6.6"
  }
 },
 "nbformat": 4,
 "nbformat_minor": 2
}
