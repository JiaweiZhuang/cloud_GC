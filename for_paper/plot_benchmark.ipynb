{
 "cells": [
  {
   "cell_type": "code",
   "execution_count": 1,
   "metadata": {},
   "outputs": [],
   "source": [
    "%matplotlib inline\n",
    "import matplotlib.pyplot as plt\n",
    "\n",
    "import numpy as np\n",
    "import pandas as pd"
   ]
  },
  {
   "cell_type": "code",
   "execution_count": 2,
   "metadata": {},
   "outputs": [
    {
     "data": {
      "text/html": [
       "<div>\n",
       "<style scoped>\n",
       "    .dataframe tbody tr th:only-of-type {\n",
       "        vertical-align: middle;\n",
       "    }\n",
       "\n",
       "    .dataframe tbody tr th {\n",
       "        vertical-align: top;\n",
       "    }\n",
       "\n",
       "    .dataframe thead th {\n",
       "        text-align: right;\n",
       "    }\n",
       "</style>\n",
       "<table border=\"1\" class=\"dataframe\">\n",
       "  <thead>\n",
       "    <tr style=\"text-align: right;\">\n",
       "      <th></th>\n",
       "      <th>cpu</th>\n",
       "      <th>timing</th>\n",
       "      <th>hourly_cost</th>\n",
       "      <th>total_cost</th>\n",
       "      <th>hourly_spot_cost</th>\n",
       "      <th>total_spot_cost</th>\n",
       "    </tr>\n",
       "  </thead>\n",
       "  <tbody>\n",
       "    <tr>\n",
       "      <th>EC2 c5.4xlarge</th>\n",
       "      <td>8</td>\n",
       "      <td>5441</td>\n",
       "      <td>0.6800</td>\n",
       "      <td>1.027744</td>\n",
       "      <td>0.29</td>\n",
       "      <td>0.438302778</td>\n",
       "    </tr>\n",
       "    <tr>\n",
       "      <th>EC2 c4.4xlarge</th>\n",
       "      <td>8</td>\n",
       "      <td>6743</td>\n",
       "      <td>0.7960</td>\n",
       "      <td>1.490952</td>\n",
       "      <td>0.25</td>\n",
       "      <td>0.468263889</td>\n",
       "    </tr>\n",
       "    <tr>\n",
       "      <th>EC2 m5.4xlarge</th>\n",
       "      <td>8</td>\n",
       "      <td>6398</td>\n",
       "      <td>0.7680</td>\n",
       "      <td>1.364907</td>\n",
       "      <td>0.27</td>\n",
       "      <td>0.47985</td>\n",
       "    </tr>\n",
       "    <tr>\n",
       "      <th>Pleiades Haswell</th>\n",
       "      <td>24</td>\n",
       "      <td>6813</td>\n",
       "      <td>0.5344</td>\n",
       "      <td>1.011352</td>\n",
       "      <td>--</td>\n",
       "      <td>--</td>\n",
       "    </tr>\n",
       "    <tr>\n",
       "      <th>Pleiades Sandy bridge</th>\n",
       "      <td>16</td>\n",
       "      <td>9373</td>\n",
       "      <td>0.2912</td>\n",
       "      <td>0.758172</td>\n",
       "      <td>--</td>\n",
       "      <td>--</td>\n",
       "    </tr>\n",
       "  </tbody>\n",
       "</table>\n",
       "</div>"
      ],
      "text/plain": [
       "                            cpu  timing  hourly_cost  total_cost  \\\n",
       "EC2 c5.4xlarge                8    5441       0.6800    1.027744   \n",
       "EC2 c4.4xlarge                8    6743       0.7960    1.490952   \n",
       "EC2 m5.4xlarge                8    6398       0.7680    1.364907   \n",
       "Pleiades Haswell             24    6813       0.5344    1.011352   \n",
       "Pleiades Sandy bridge        16    9373       0.2912    0.758172   \n",
       "\n",
       "                      hourly_spot_cost total_spot_cost  \n",
       "EC2 c5.4xlarge                    0.29     0.438302778  \n",
       "EC2 c4.4xlarge                    0.25     0.468263889  \n",
       "EC2 m5.4xlarge                    0.27         0.47985  \n",
       "Pleiades Haswell                    --              --  \n",
       "Pleiades Sandy bridge               --              --  "
      ]
     },
     "execution_count": 2,
     "metadata": {},
     "output_type": "execute_result"
    }
   ],
   "source": [
    "df = pd.read_csv('./benchmark.csv', sep='\\t').iloc[1:]\n",
    "df"
   ]
  },
  {
   "cell_type": "code",
   "execution_count": 3,
   "metadata": {},
   "outputs": [],
   "source": [
    "plt.rcParams['legend.fontsize'] = 12.5\n",
    "\n",
    "plt.rcParams['xtick.labelsize'] = 13\n",
    "plt.rcParams['ytick.labelsize'] = 13\n",
    "\n",
    "plt.rcParams['axes.titlesize'] = 14\n",
    "plt.rcParams['axes.labelsize'] = 14"
   ]
  },
  {
   "cell_type": "code",
   "execution_count": 5,
   "metadata": {},
   "outputs": [
    {
     "data": {
      "image/png": "[encoded data removed]",
      "text/plain": [
       "<Figure size 720x288 with 2 Axes>"
      ]
     },
     "metadata": {},
     "output_type": "display_data"
    }
   ],
   "source": [
    "fig, axes = plt.subplots(1, 2, figsize=[10, 4])\n",
    "\n",
    "ind = np.arange(5, 0, -1)  # up-down\n",
    "# ind = np.arange(6)  # bottom-up\n",
    "\n",
    "axes[0].barh(ind, df['timing']/3600, tick_label=df.index, height=0.5)\n",
    "axes[0].set_title('Wall time')\n",
    "axes[0].set_xlabel('hours')\n",
    "\n",
    "axes[1].barh(ind[:3]+0.125, df['total_cost'][:3], height=0.25, label='On-demand \\npricing')\n",
    "axes[1].barh(ind[:3]-0.125, df['total_spot_cost'][:3].astype('float'), height=0.25, label='Spot pricing')\n",
    "axes[1].barh(ind[3:], df['total_cost'][4:], height=0.4, label='SBU model')\n",
    "\n",
    "axes[1].set_title('Total cost')\n",
    "axes[1].set_xlabel('USD')\n",
    "axes[1].legend(loc=4)\n",
    "\n",
    "axes[1].set_yticks(ind)\n",
    "axes[1].set_yticklabels([' '])\n",
    "\n",
    "fig.suptitle('Performance and cost comparisons between AWS EC2 and NASA Pleiades', y=1.03, fontsize=15,  x=0.55)\n",
    "fig.tight_layout()\n",
    "fig.savefig('benchmark.png', dpi=300, bbox_inches='tight')"
   ]
  },
  {
   "cell_type": "code",
   "execution_count": null,
   "metadata": {},
   "outputs": [],
   "source": []
  }
 ],
 "metadata": {
  "kernelspec": {
   "display_name": "Python 3",
   "language": "python",
   "name": "python3"
  },
  "language_info": {
   "codemirror_mode": {
    "name": "ipython",
    "version": 3
   },
   "file_extension": ".py",
   "mimetype": "text/x-python",
   "name": "python",
   "nbconvert_exporter": "python",
   "pygments_lexer": "ipython3",
   "version": "3.6.6"
  }
 },
 "nbformat": 4,
 "nbformat_minor": 2
}
